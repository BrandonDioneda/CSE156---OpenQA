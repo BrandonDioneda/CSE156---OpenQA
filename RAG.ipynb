{
 "cells": [
  {
   "cell_type": "code",
   "execution_count": 18,
   "metadata": {},
   "outputs": [],
   "source": [
    "from sentence_transformers import SentenceTransformer\n",
    "import faiss\n",
    "import numpy as np\n",
    "import anthropic"
   ]
  },
  {
   "cell_type": "markdown",
   "metadata": {},
   "source": [
    "### Preprocess the \"documents\" in openbook.txt:"
   ]
  },
  {
   "cell_type": "code",
   "execution_count": 3,
   "metadata": {},
   "outputs": [],
   "source": [
    "with open(\"data\\Main\\openbook.txt\", \"r\", encoding=\"utf-8\") as file:\n",
    "    lines = file.readlines()\n",
    "documents = [line.strip() for line in lines]"
   ]
  },
  {
   "cell_type": "markdown",
   "metadata": {},
   "source": [
    "### Creating Embedding model and using it on OpenBookQA \"documents\":\n",
    "- This works as the context retrieval"
   ]
  },
  {
   "cell_type": "code",
   "execution_count": 5,
   "metadata": {},
   "outputs": [],
   "source": [
    "embedder = SentenceTransformer('all-MiniLM-L6-v2')\n",
    "\n",
    "doc_embeddings = embedder.encode(documents, convert_to_numpy=True)\n",
    "\n",
    "dimension = doc_embeddings.shape[1]\n",
    "index = faiss.IndexFlatL2(dimension)\n",
    "index.add(np.array(doc_embeddings))"
   ]
  },
  {
   "cell_type": "code",
   "execution_count": 15,
   "metadata": {},
   "outputs": [
    {
     "name": "stdout",
     "output_type": "stream",
     "text": [
      "Best match: \"the sun is a source of heat called sunlight\"\n"
     ]
    }
   ],
   "source": [
    "# Query embedding\n",
    "query = \"The sun is responsible for\"\n",
    "query_embedding = embedder.encode([query])\n",
    "\n",
    "# Search FAISS index\n",
    "D, I = index.search(np.array(query_embedding), k=1)\n",
    "print(\"Best match:\", documents[I[0][0]])"
   ]
  },
  {
   "cell_type": "code",
   "execution_count": 38,
   "metadata": {},
   "outputs": [],
   "source": [
    "# Function to retrieve similar documents\n",
    "def retrieve_context(query, k=1):\n",
    "    query_embedding = embedder.encode([query], convert_to_numpy=True)\n",
    "    distances, indices = index.search(query_embedding, k)  # Retrieve top-k similar docs\n",
    "    return [documents[i] for i in indices[0]]"
   ]
  },
  {
   "cell_type": "code",
   "execution_count": 41,
   "metadata": {},
   "outputs": [
    {
     "data": {
      "text/plain": [
       "['\"the sun is a source of heat called sunlight\"',\n",
       " '\"sunlight produces heat\"',\n",
       " '\"the sun is a source of light called sunlight\"',\n",
       " '\"the sun is the source of solar energy called sunlight\"',\n",
       " '\"sunlight contains ultraviolet light\"',\n",
       " '\"the sun transfers solar energy from itself to the Earth through sunlight\"']"
      ]
     },
     "execution_count": 41,
     "metadata": {},
     "output_type": "execute_result"
    }
   ],
   "source": [
    "retrieve_context(query, k=6)"
   ]
  },
  {
   "cell_type": "markdown",
   "metadata": {},
   "source": [
    "### Using Claude API to expand on the \"queries\":"
   ]
  },
  {
   "cell_type": "code",
   "execution_count": 46,
   "metadata": {},
   "outputs": [],
   "source": [
    "# Function to generate response using Claude\n",
    "def generate_response(query):\n",
    "    retrieved_docs = retrieve_context(query)\n",
    "    context = \"\\n\".join(retrieved_docs)\n",
    "\n",
    "    response = client.beta.messages.create(\n",
    "        model=\"claude-3-7-sonnet-20250219\",\n",
    "        max_tokens=200,\n",
    "        messages=[{\"role\": \"user\", \"content\": f\"Context: {context}\\n\\nQuestion: {query}\"}]\n",
    "    )\n",
    "    \n",
    "    return response  # Return Claude’s response"
   ]
  },
  {
   "cell_type": "code",
   "execution_count": null,
   "metadata": {},
   "outputs": [],
   "source": [
    "generate_response(query)"
   ]
  },
  {
   "cell_type": "markdown",
   "metadata": {},
   "source": [
    "### Testing on training set:"
   ]
  },
  {
   "cell_type": "code",
   "execution_count": 51,
   "metadata": {},
   "outputs": [
    {
     "name": "stdout",
     "output_type": "stream",
     "text": [
      "{'id': '7-980', 'question': {'stem': 'The sun is responsible for', 'choices': [{'text': 'puppies learning new tricks', 'label': 'A'}, {'text': 'children growing up and getting old', 'label': 'B'}, {'text': 'flowers wilting in a vase', 'label': 'C'}, {'text': 'plants sprouting, blooming and wilting', 'label': 'D'}]}, 'answerKey': 'D'}\n"
     ]
    }
   ],
   "source": [
    "import json\n",
    "\n",
    "def read_jsonl(file_path):\n",
    "    \"\"\"\n",
    "    Reads a .jsonl file and returns a list of JSON objects.\n",
    "\n",
    "    Args:\n",
    "        file_path (str): Path to the .jsonl file.\n",
    "\n",
    "    Returns:\n",
    "        list: A list of dictionaries representing the JSON objects.\n",
    "    \"\"\"\n",
    "    data = []\n",
    "    with open(file_path, \"r\", encoding=\"utf-8\") as file:\n",
    "        for line in file:\n",
    "            data.append(json.loads(line.strip()))\n",
    "    return data\n",
    "\n",
    "# Example usage\n",
    "file_path = \"data/Main/train.jsonl\"  # Replace with your actual file path\n",
    "data = read_jsonl(file_path)\n",
    "\n",
    "# Print the first entry to check\n",
    "print(data[0])"
   ]
  },
  {
   "cell_type": "code",
   "execution_count": 52,
   "metadata": {},
   "outputs": [],
   "source": [
    "questions    = [question['question']['stem'] for question in data]\n",
    "possible_ans = [question['question']['choices'] for question in data]"
   ]
  },
  {
   "cell_type": "code",
   "execution_count": 48,
   "metadata": {},
   "outputs": [
    {
     "data": {
      "text/plain": [
       "['\"A bee is a pollinating animal\"',\n",
       " '\"A bird is a pollinating animal\"',\n",
       " '\"An electrical conductor is a vehicle for the flow of electricity\"',\n",
       " '\"An example of a change in the Earth is an ocean becoming a wooded area\"',\n",
       " '\"An example of a chemical change is acid breaking down substances\"']"
      ]
     },
     "execution_count": 48,
     "metadata": {},
     "output_type": "execute_result"
    }
   ],
   "source": [
    "question = data[\"question\"][\"stem\"]\n",
    "choices = data[\"question\"][\"choices\"]\n",
    "formatted_choices = \"\\n\".join([f\"({choice['label']}) {choice['text']}\" for choice in choices])\n",
    "\n",
    "prompt = f\"\"\"\n",
    "Question: {question}\n",
    "{formatted_choices}\n",
    "\n",
    "Choose the best answer from the options (A, B, C, or D) and explain your reasoning.\n",
    "\"\"\".strip()\n",
    "\n",
    "prompt"
   ]
  }
 ],
 "metadata": {
  "kernelspec": {
   "display_name": "base",
   "language": "python",
   "name": "python3"
  },
  "language_info": {
   "codemirror_mode": {
    "name": "ipython",
    "version": 3
   },
   "file_extension": ".py",
   "mimetype": "text/x-python",
   "name": "python",
   "nbconvert_exporter": "python",
   "pygments_lexer": "ipython3",
   "version": "3.11.5"
  }
 },
 "nbformat": 4,
 "nbformat_minor": 2
}
