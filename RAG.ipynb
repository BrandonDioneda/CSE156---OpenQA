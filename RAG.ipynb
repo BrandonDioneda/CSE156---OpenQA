{
 "cells": [
  {
   "cell_type": "markdown",
   "metadata": {},
   "source": [
    "- Use repo provided from Anthropic: {https://github.com/anthropics/anthropic-cookbook/tree/main/skills/contextual-embeddings}"
   ]
  },
  {
   "cell_type": "code",
   "execution_count": null,
   "metadata": {},
   "outputs": [],
   "source": [
    "%pip install anthropic datasets torch transformers sentence-transformers"
   ]
  },
  {
   "cell_type": "code",
   "execution_count": null,
   "metadata": {},
   "outputs": [],
   "source": [
    "from datasets import load_dataset\n",
    "\n",
    "# Load OpenBookQA dataset\n",
    "dataset = load_dataset(\"openbookqa\")\n",
    "\n",
    "# Extract the train, validation, and test splits\n",
    "train_data = dataset[\"train\"]\n",
    "dev_data = dataset[\"validation\"]\n",
    "test_data = dataset[\"test\"]\n"
   ]
  },
  {
   "cell_type": "code",
   "execution_count": null,
   "metadata": {},
   "outputs": [],
   "source": [
    "def format_question(example):\n",
    "    question = example[\"question_stem\"]\n",
    "    choices = example[\"choices\"][\"text\"]  # List of answer choices\n",
    "    answer = example[\"answerKey\"]  # Correct answer (e.g., \"A\", \"B\", etc.)\n",
    "    return question, choices, answer\n"
   ]
  },
  {
   "cell_type": "code",
   "execution_count": null,
   "metadata": {},
   "outputs": [],
   "source": [
    "from skills.contextual_embeddings.embedding_utils import get_embeddings\n",
    "\n",
    "# Sample question from the dataset\n",
    "question, choices, answer = format_question(train_data[0])\n",
    "\n",
    "# Get embeddings (replace with actual API call to Anthropic model)\n",
    "question_embedding = get_embeddings([question])\n",
    "\n",
    "print(\"Question:\", question)\n",
    "print(\"Embedding:\", question_embedding)"
   ]
  }
 ],
 "metadata": {
  "kernelspec": {
   "display_name": "base",
   "language": "python",
   "name": "python3"
  },
  "language_info": {
   "name": "python",
   "version": "3.11.4"
  }
 },
 "nbformat": 4,
 "nbformat_minor": 2
}
