{
 "cells": [
  {
   "cell_type": "code",
   "execution_count": 1,
   "metadata": {},
   "outputs": [],
   "source": [
    "import os\n",
    "from sentence_transformers import SentenceTransformer\n",
    "import anthropic\n",
    "from context_retrieval import *"
   ]
  },
  {
   "cell_type": "code",
   "execution_count": 2,
   "metadata": {},
   "outputs": [],
   "source": [
    "with open(\"data\\\\Main\\\\openbook.txt\", \"r\", encoding=\"utf-8\") as file:\n",
    "        lines = file.readlines()\n",
    "documents = [line.strip() for line in lines]\n",
    "\n",
    "embedder = SentenceTransformer('all-MiniLM-L6-v2')\n",
    "\n",
    "doc_embeddings = embedder.encode(documents, convert_to_numpy=True)"
   ]
  },
  {
   "cell_type": "code",
   "execution_count": 3,
   "metadata": {},
   "outputs": [
    {
     "data": {
      "text/plain": [
       "['\"the sun is a source of heat called sunlight\"']"
      ]
     },
     "execution_count": 3,
     "metadata": {},
     "output_type": "execute_result"
    }
   ],
   "source": [
    "retrieve_context(\"The sun is responsible for\", embedder, documents, doc_embeddings, k=1)"
   ]
  },
  {
   "cell_type": "markdown",
   "metadata": {},
   "source": [
    "### Testing on training set:"
   ]
  },
  {
   "cell_type": "code",
   "execution_count": 4,
   "metadata": {},
   "outputs": [],
   "source": [
    "file_path = \"data\\\\Main\\\\train.jsonl\"  \n",
    "data = read_jsonl(file_path)"
   ]
  },
  {
   "cell_type": "code",
   "execution_count": 5,
   "metadata": {},
   "outputs": [],
   "source": [
    "questions = [question['question']['stem'] for question in data]\n",
    "choices   = [question['question']['choices'] for question in data]"
   ]
  },
  {
   "cell_type": "code",
   "execution_count": 14,
   "metadata": {},
   "outputs": [
    {
     "data": {
      "text/plain": [
       "['A. puppies learning new tricks B. children growing up and getting old C. flowers wilting in a vase D. plants sprouting, blooming and wilting',\n",
       " 'A. the mountains seem very close B. the mountains are boring C. the mountains look the same as from up close D. the mountains seem smaller than in photographs',\n",
       " \"A. the mind needs time to digest B. take a second to digest what I said C. nutrients are being deconstructed D. reader's digest is a body of works\",\n",
       " 'A. warm lights that float B. made out of nitrate C. great balls of gas burning billions of miles away D. lights in the sky',\n",
       " 'A. straw B. Glass C. Candle D. mailing tube']"
      ]
     },
     "execution_count": 14,
     "metadata": {},
     "output_type": "execute_result"
    }
   ],
   "source": [
    "formatted_list = [\n",
    "    \" \".join(f\"{item['label']}. {item['text']}\" for item in sublist) for sublist in choices\n",
    "]\n",
    "formatted_list[:5]"
   ]
  },
  {
   "cell_type": "code",
   "execution_count": 21,
   "metadata": {},
   "outputs": [
    {
     "name": "stdout",
     "output_type": "stream",
     "text": [
      "Based purely on the context here: ['\"the sun is a source of heat called sunlight\"'], answer this question with just A, B, C, or D: The sun is responsible for The possible answers are: A. puppies learning new tricks B. children growing up and getting old C. flowers wilting in a vase D. plants sprouting, blooming and wilting\n"
     ]
    }
   ],
   "source": [
    "question = \"The sun is responsible for\"\n",
    "context = retrieve_context(question, embedder, documents, doc_embeddings, k=1)\n",
    "\n",
    "index = 0  \n",
    "answers = formatted_list[index]  \n",
    "\n",
    "prompt = f\"Based purely on the context here: {context}, answer this question with just A, B, C, or D: {question} The possible answers are: {answers}\"\n",
    "\n",
    "print(prompt)"
   ]
  },
  {
   "cell_type": "markdown",
   "metadata": {},
   "source": [
    "### Using Claude to pick answer based on context:"
   ]
  },
  {
   "cell_type": "code",
   "execution_count": 16,
   "metadata": {},
   "outputs": [],
   "source": [
    "claude_api_key = os.getenv(\"CLAUDE_API_KEY\")\n",
    "client = anthropic.Anthropic(api_key=claude_api_key)"
   ]
  },
  {
   "cell_type": "code",
   "execution_count": 22,
   "metadata": {},
   "outputs": [],
   "source": [
    "qa = zip(questions, formatted_list)\n",
    "\n",
    "prompt_batch = [\n",
    "    f\"\"\"Based purely on the context here: {retrieve_context(question, embedder, documents, doc_embeddings, k=1)}, answer this question with just A, B, C, or D: {question} The possible answers are: {answers}\"\"\" for question, answers in qa\n",
    "]"
   ]
  },
  {
   "cell_type": "code",
   "execution_count": null,
   "metadata": {},
   "outputs": [],
   "source": [
    "responses = []\n",
    "\n",
    "for prompt in prompt_batch:\n",
    "    response = client.messages.create(\n",
    "        model=\"claude-3-opus-20240229\",  \n",
    "        max_tokens=100,  \n",
    "        temperature=0.7,  \n",
    "        messages=[{\"role\": \"user\", \"content\": prompt}]\n",
    "    )\n",
    "    \n",
    "    responses.append(response.content[0].text)  "
   ]
  },
  {
   "cell_type": "code",
   "execution_count": null,
   "metadata": {},
   "outputs": [],
   "source": [
    "len(responses)"
   ]
  },
  {
   "cell_type": "code",
   "execution_count": null,
   "metadata": {},
   "outputs": [],
   "source": [
    "responses"
   ]
  },
  {
   "cell_type": "code",
   "execution_count": null,
   "metadata": {},
   "outputs": [],
   "source": []
  }
 ],
 "metadata": {
  "kernelspec": {
   "display_name": "base",
   "language": "python",
   "name": "python3"
  },
  "language_info": {
   "codemirror_mode": {
    "name": "ipython",
    "version": 3
   },
   "file_extension": ".py",
   "mimetype": "text/x-python",
   "name": "python",
   "nbconvert_exporter": "python",
   "pygments_lexer": "ipython3",
   "version": "3.11.5"
  }
 },
 "nbformat": 4,
 "nbformat_minor": 2
}
