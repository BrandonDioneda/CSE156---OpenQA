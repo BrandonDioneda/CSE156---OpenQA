{
 "cells": [
  {
   "cell_type": "code",
   "execution_count": 1,
   "metadata": {},
   "outputs": [],
   "source": [
    "import os\n",
    "from sentence_transformers import SentenceTransformer\n",
    "import anthropic\n",
    "from context_retrieval import *"
   ]
  },
  {
   "cell_type": "code",
   "execution_count": 2,
   "metadata": {},
   "outputs": [],
   "source": [
    "with open(\"data\\\\Main\\\\openbook.txt\", \"r\", encoding=\"utf-8\") as file:\n",
    "        lines = file.readlines()\n",
    "documents = [line.strip() for line in lines]\n",
    "\n",
    "embedder = SentenceTransformer('all-MiniLM-L6-v2')\n",
    "\n",
    "doc_embeddings = embedder.encode(documents, convert_to_numpy=True)"
   ]
  },
  {
   "cell_type": "code",
   "execution_count": 3,
   "metadata": {},
   "outputs": [
    {
     "data": {
      "text/plain": [
       "['\"the sun is a source of heat called sunlight\"']"
      ]
     },
     "execution_count": 3,
     "metadata": {},
     "output_type": "execute_result"
    }
   ],
   "source": [
    "retrieve_context(\"The sun is responsible for\", embedder, documents, doc_embeddings, k=1)"
   ]
  },
  {
   "cell_type": "markdown",
   "metadata": {},
   "source": [
    "### Testing on training set:"
   ]
  },
  {
   "cell_type": "code",
   "execution_count": 4,
   "metadata": {},
   "outputs": [
    {
     "name": "stdout",
     "output_type": "stream",
     "text": [
      "{'id': '7-980', 'question': {'stem': 'The sun is responsible for', 'choices': [{'text': 'puppies learning new tricks', 'label': 'A'}, {'text': 'children growing up and getting old', 'label': 'B'}, {'text': 'flowers wilting in a vase', 'label': 'C'}, {'text': 'plants sprouting, blooming and wilting', 'label': 'D'}]}, 'answerKey': 'D'}\n"
     ]
    }
   ],
   "source": [
    "file_path = \"data\\\\Main\\\\train.jsonl\"  \n",
    "data = read_jsonl(file_path)\n",
    "\n",
    "print(data[0])"
   ]
  },
  {
   "cell_type": "code",
   "execution_count": null,
   "metadata": {},
   "outputs": [],
   "source": []
  },
  {
   "cell_type": "code",
   "execution_count": 5,
   "metadata": {},
   "outputs": [],
   "source": [
    "questions = [question['question']['stem'] for question in data]\n",
    "choices   = [question['question']['choices'] for question in data]"
   ]
  },
  {
   "cell_type": "markdown",
   "metadata": {},
   "source": [
    "### Using Claude to pick answer based on context:"
   ]
  },
  {
   "cell_type": "code",
   "execution_count": null,
   "metadata": {},
   "outputs": [],
   "source": [
    "claude_api_key = os.getenv(\"CLAUDE_API_KEY\")\n",
    "client = anthropic.Anthropic(api_key=claude_api_key)\n",
    "\n",
    "response = ..."
   ]
  }
 ],
 "metadata": {
  "kernelspec": {
   "display_name": "Python 3",
   "language": "python",
   "name": "python3"
  },
  "language_info": {
   "codemirror_mode": {
    "name": "ipython",
    "version": 3
   },
   "file_extension": ".py",
   "mimetype": "text/x-python",
   "name": "python",
   "nbconvert_exporter": "python",
   "pygments_lexer": "ipython3",
   "version": "3.12.9"
  }
 },
 "nbformat": 4,
 "nbformat_minor": 2
}
